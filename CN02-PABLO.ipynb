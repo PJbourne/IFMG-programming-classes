{
  "nbformat": 4,
  "nbformat_minor": 0,
  "metadata": {
    "colab": {
      "provenance": [],
      "authorship_tag": "ABX9TyN4upAMWMFmnNx48CRUtZsC",
      "include_colab_link": true
    },
    "kernelspec": {
      "name": "python3",
      "display_name": "Python 3"
    },
    "language_info": {
      "name": "python"
    }
  },
  "cells": [
    {
      "cell_type": "markdown",
      "metadata": {
        "id": "view-in-github",
        "colab_type": "text"
      },
      "source": [
        "<a href=\"https://colab.research.google.com/github/PJbourne/IFMG-programming-classes/blob/main/CN02-PABLO.ipynb\" target=\"_parent\"><img src=\"https://colab.research.google.com/assets/colab-badge.svg\" alt=\"Open In Colab\"/></a>"
      ]
    },
    {
      "cell_type": "code",
      "execution_count": null,
      "metadata": {
        "id": "WOssdzN26u3F"
      },
      "outputs": [],
      "source": []
    },
    {
      "cell_type": "markdown",
      "source": [
        "* Lista 2 - Cálculo Numérico - 2023"
      ],
      "metadata": {
        "id": "xhcux_ui8wNi"
      }
    },
    {
      "cell_type": "code",
      "source": [
        "#1 - exemplo de funcao continua com raiz no intervalo [a,b] mas f(a)*f(b) > 0.\n",
        "#Isso contraria o teorema do valor intermediário?\n",
        "\n",
        "float a, b, x\n",
        "\n",
        "a = -2\n",
        "b = 1.5\n",
        "\n",
        "def funcao(x):\n",
        "  y = x^2\n",
        "  return y\n",
        "\n",
        "# A função é contínua  e tem uma raíz no intervalo"
      ],
      "metadata": {
        "id": "gaJ3u_Cd833Q"
      },
      "execution_count": null,
      "outputs": []
    },
    {
      "cell_type": "code",
      "source": [
        "#2 - Implementar o metodo da bisseção (passo a passo)\n",
        "\n",
        "import math\n",
        "\n",
        "# Entrada\n",
        "a = -1\n",
        "b = 5\n",
        "tol = 10**-5\n",
        "interMax = 100\n",
        "\n",
        "#funcao f(x)=x\n",
        "def f(x):\n",
        "  y = x\n",
        "  return y\n",
        "\n",
        "#passo1\n",
        "i = 1\n",
        "fa = f(a)\n",
        "\n",
        "#passo2\n",
        "while i <= interMax:\n",
        "  #passo3\n",
        "  p = (a+b)/2\n",
        "  fp = f(p)\n",
        "  #passo4\n",
        "  if abs(fp) < tol or (b-a)/2 < tol:\n",
        "    print(p)\n",
        "    break\n",
        "  #passo 5\n",
        "  i = i+1\n",
        "  #passo 6\n",
        "  if (fa * fp) > 0:\n",
        "    a = p\n",
        "    fa = fp\n",
        "  else:\n",
        "    b = p\n",
        "\n",
        "#saida\n",
        "print('O método falhou a após ' + str(interMax) + ' operações')"
      ],
      "metadata": {
        "colab": {
          "base_uri": "https://localhost:8080/"
        },
        "id": "Ndd9T7x7CoSo",
        "outputId": "71c03e1c-67d6-4449-be3d-806e99d5aef2"
      },
      "execution_count": 16,
      "outputs": [
        {
          "output_type": "stream",
          "name": "stdout",
          "text": [
            "7.62939453125e-06\n",
            "O método falhou a após 100 operações\n"
          ]
        }
      ]
    },
    {
      "cell_type": "code",
      "source": [
        "#3 - Justificar que a eqn. 4x - e^x = 0 tem raiz no intervalo (0,1) e no (2,3).\n",
        "#utilizar met. da bissecao p/ encontrar aprox. p/ essas raizes.\n",
        "#tolerancia = 10^-5\n",
        "#intermax = 100\n",
        "\n",
        "a = 0\n",
        "b = 1\n",
        "j = 0\n",
        "\n",
        "while j <= 1:\n",
        "  if j == 1:\n",
        "    a = 2\n",
        "    b = 3\n",
        "  i = 1\n",
        "\n",
        "  fa = f(a)\n",
        "  intermax = 100\n",
        "  tol = 10**-5\n",
        "\n",
        "  def f(x):\n",
        "    fp = 4*x - math.e**x\n",
        "    return fp\n",
        "\n",
        "  while i <= intermax:\n",
        "    p = (a+b)/2\n",
        "    fp = f(p)\n",
        "    if abs(fp) < tol or (b-a)/2 < tol:\n",
        "      print(p)\n",
        "      break\n",
        "    i = i+1\n",
        "    if fa*fp > 0:\n",
        "      a = p\n",
        "      fa = fp\n",
        "    else:\n",
        "      b = p \n",
        "  j = j+1"
      ],
      "metadata": {
        "colab": {
          "base_uri": "https://localhost:8080/"
        },
        "id": "pb92rVy4EglF",
        "outputId": "55d43403-474a-4cfd-d595-0b9cda640b1f"
      },
      "execution_count": 22,
      "outputs": [
        {
          "output_type": "stream",
          "name": "stdout",
          "text": [
            "0.3574066162109375\n",
            "2.1532974243164062\n"
          ]
        }
      ]
    },
    {
      "cell_type": "code",
      "source": [
        "#4 - Utilize o metodo da bissecao p/ det. uma raiz das eqns. f(x) = 0 definidas\n",
        "#pelas funcoes a seguir, nos intervalos indicados.\n",
        "#intermax = 100\n",
        "#tol = 10^-5\n",
        "\n",
        "def fa(x):\n",
        "  y = math.sqrt()\n",
        "  return y\n",
        "\n",
        "def fb(x):\n",
        "  y = (3*(x + 1)*(x - 0.5)*(x - 1))\n",
        "  return y\n",
        "\n",
        "def fc(x):\n",
        "  y = x - (math.e ** (-1 * x))\n",
        "  return y\n",
        "\n",
        "def fd(x):\n",
        "  y = (math.e ** x) - (x**2) + (3*x) - 2\n",
        "  return y\n",
        "\n",
        "def fe(x):\n",
        "  y = x + 0.3 - math.sin(math.pi * x)\n",
        "  return y"
      ],
      "metadata": {
        "id": "-2x56utQGvT5"
      },
      "execution_count": 23,
      "outputs": []
    },
    {
      "cell_type": "code",
      "source": [],
      "metadata": {
        "id": "8n7Mph5vKMwk"
      },
      "execution_count": null,
      "outputs": []
    }
  ]
}